{
  "nbformat": 4,
  "nbformat_minor": 0,
  "metadata": {
    "colab": {
      "provenance": [],
      "include_colab_link": true
    },
    "kernelspec": {
      "name": "python3",
      "display_name": "Python 3"
    },
    "language_info": {
      "name": "python"
    }
  },
  "cells": [
    {
      "cell_type": "markdown",
      "metadata": {
        "id": "view-in-github",
        "colab_type": "text"
      },
      "source": [
        "<a href=\"https://colab.research.google.com/github/21pa1a6128/CodeAlpha_DataScience/blob/main/task2stockprediction.ipynb\" target=\"_parent\"><img src=\"https://colab.research.google.com/assets/colab-badge.svg\" alt=\"Open In Colab\"/></a>"
      ]
    },
    {
      "cell_type": "markdown",
      "source": [
        "**STOCK MARKET PREDICTION AND FORECASTING USING STACKED LSTM**"
      ],
      "metadata": {
        "id": "XHZ2An1NixlA"
      }
    },
    {
      "cell_type": "code",
      "source": [
        "import pandas as pd\n",
        "import numpy as np\n",
        "from numpy import array\n",
        "import math\n",
        "import matplotlib.pyplot as plt\n",
        "from sklearn.preprocessing import MinMaxScaler\n",
        "import tensorflow as tf\n",
        "from tensorflow.keras.models import Sequential\n",
        "from tensorflow.keras.layers import Dense\n",
        "from tensorflow.keras.layers import LSTM\n",
        "%matplotlib inline"
      ],
      "metadata": {
        "id": "mXC3lAlZi8XL"
      },
      "execution_count": null,
      "outputs": []
    },
    {
      "cell_type": "code",
      "source": [
        "from google.colab import drive\n",
        "drive.mount('/content/drive')"
      ],
      "metadata": {
        "colab": {
          "base_uri": "https://localhost:8080/"
        },
        "id": "Z1aFSlqAS4Cz",
        "outputId": "1b58db45-622d-46d3-8831-e15d0a52cb57"
      },
      "execution_count": null,
      "outputs": [
        {
          "output_type": "stream",
          "name": "stdout",
          "text": [
            "Drive already mounted at /content/drive; to attempt to forcibly remount, call drive.mount(\"/content/drive\", force_remount=True).\n"
          ]
        }
      ]
    },
    {
      "cell_type": "code",
      "source": [
        "df=pd.read_csv('/content/drive/MyDrive/apple_share_price.csv')"
      ],
      "metadata": {
        "id": "tZhdCJS5mqs_"
      },
      "execution_count": null,
      "outputs": []
    },
    {
      "cell_type": "code",
      "source": [
        "df.head()"
      ],
      "metadata": {
        "colab": {
          "base_uri": "https://localhost:8080/",
          "height": 206
        },
        "id": "F-FiIydMm0Se",
        "outputId": "24b3b447-322b-4000-ec26-faf15514f750"
      },
      "execution_count": null,
      "outputs": [
        {
          "output_type": "execute_result",
          "data": {
            "text/plain": [
              "        Date    Open    High     Low   Close    Volume\n",
              "0  11-Aug-17  156.60  158.57  156.07  157.48  26257096\n",
              "1  10-Aug-17  159.90  160.00  154.63  155.32  40804273\n",
              "2   9-Aug-17  159.26  161.27  159.11  161.06  26131530\n",
              "3   8-Aug-17  158.60  161.83  158.27  160.08  36205896\n",
              "4   7-Aug-17  157.06  158.92  156.67  158.81  21870321"
            ],
            "text/html": [
              "\n",
              "  <div id=\"df-21bc624a-5d09-4252-a322-6ccbf45e4fa2\" class=\"colab-df-container\">\n",
              "    <div>\n",
              "<style scoped>\n",
              "    .dataframe tbody tr th:only-of-type {\n",
              "        vertical-align: middle;\n",
              "    }\n",
              "\n",
              "    .dataframe tbody tr th {\n",
              "        vertical-align: top;\n",
              "    }\n",
              "\n",
              "    .dataframe thead th {\n",
              "        text-align: right;\n",
              "    }\n",
              "</style>\n",
              "<table border=\"1\" class=\"dataframe\">\n",
              "  <thead>\n",
              "    <tr style=\"text-align: right;\">\n",
              "      <th></th>\n",
              "      <th>Date</th>\n",
              "      <th>Open</th>\n",
              "      <th>High</th>\n",
              "      <th>Low</th>\n",
              "      <th>Close</th>\n",
              "      <th>Volume</th>\n",
              "    </tr>\n",
              "  </thead>\n",
              "  <tbody>\n",
              "    <tr>\n",
              "      <th>0</th>\n",
              "      <td>11-Aug-17</td>\n",
              "      <td>156.60</td>\n",
              "      <td>158.57</td>\n",
              "      <td>156.07</td>\n",
              "      <td>157.48</td>\n",
              "      <td>26257096</td>\n",
              "    </tr>\n",
              "    <tr>\n",
              "      <th>1</th>\n",
              "      <td>10-Aug-17</td>\n",
              "      <td>159.90</td>\n",
              "      <td>160.00</td>\n",
              "      <td>154.63</td>\n",
              "      <td>155.32</td>\n",
              "      <td>40804273</td>\n",
              "    </tr>\n",
              "    <tr>\n",
              "      <th>2</th>\n",
              "      <td>9-Aug-17</td>\n",
              "      <td>159.26</td>\n",
              "      <td>161.27</td>\n",
              "      <td>159.11</td>\n",
              "      <td>161.06</td>\n",
              "      <td>26131530</td>\n",
              "    </tr>\n",
              "    <tr>\n",
              "      <th>3</th>\n",
              "      <td>8-Aug-17</td>\n",
              "      <td>158.60</td>\n",
              "      <td>161.83</td>\n",
              "      <td>158.27</td>\n",
              "      <td>160.08</td>\n",
              "      <td>36205896</td>\n",
              "    </tr>\n",
              "    <tr>\n",
              "      <th>4</th>\n",
              "      <td>7-Aug-17</td>\n",
              "      <td>157.06</td>\n",
              "      <td>158.92</td>\n",
              "      <td>156.67</td>\n",
              "      <td>158.81</td>\n",
              "      <td>21870321</td>\n",
              "    </tr>\n",
              "  </tbody>\n",
              "</table>\n",
              "</div>\n",
              "    <div class=\"colab-df-buttons\">\n",
              "\n",
              "  <div class=\"colab-df-container\">\n",
              "    <button class=\"colab-df-convert\" onclick=\"convertToInteractive('df-21bc624a-5d09-4252-a322-6ccbf45e4fa2')\"\n",
              "            title=\"Convert this dataframe to an interactive table.\"\n",
              "            style=\"display:none;\">\n",
              "\n",
              "  <svg xmlns=\"http://www.w3.org/2000/svg\" height=\"24px\" viewBox=\"0 -960 960 960\">\n",
              "    <path d=\"M120-120v-720h720v720H120Zm60-500h600v-160H180v160Zm220 220h160v-160H400v160Zm0 220h160v-160H400v160ZM180-400h160v-160H180v160Zm440 0h160v-160H620v160ZM180-180h160v-160H180v160Zm440 0h160v-160H620v160Z\"/>\n",
              "  </svg>\n",
              "    </button>\n",
              "\n",
              "  <style>\n",
              "    .colab-df-container {\n",
              "      display:flex;\n",
              "      gap: 12px;\n",
              "    }\n",
              "\n",
              "    .colab-df-convert {\n",
              "      background-color: #E8F0FE;\n",
              "      border: none;\n",
              "      border-radius: 50%;\n",
              "      cursor: pointer;\n",
              "      display: none;\n",
              "      fill: #1967D2;\n",
              "      height: 32px;\n",
              "      padding: 0 0 0 0;\n",
              "      width: 32px;\n",
              "    }\n",
              "\n",
              "    .colab-df-convert:hover {\n",
              "      background-color: #E2EBFA;\n",
              "      box-shadow: 0px 1px 2px rgba(60, 64, 67, 0.3), 0px 1px 3px 1px rgba(60, 64, 67, 0.15);\n",
              "      fill: #174EA6;\n",
              "    }\n",
              "\n",
              "    .colab-df-buttons div {\n",
              "      margin-bottom: 4px;\n",
              "    }\n",
              "\n",
              "    [theme=dark] .colab-df-convert {\n",
              "      background-color: #3B4455;\n",
              "      fill: #D2E3FC;\n",
              "    }\n",
              "\n",
              "    [theme=dark] .colab-df-convert:hover {\n",
              "      background-color: #434B5C;\n",
              "      box-shadow: 0px 1px 3px 1px rgba(0, 0, 0, 0.15);\n",
              "      filter: drop-shadow(0px 1px 2px rgba(0, 0, 0, 0.3));\n",
              "      fill: #FFFFFF;\n",
              "    }\n",
              "  </style>\n",
              "\n",
              "    <script>\n",
              "      const buttonEl =\n",
              "        document.querySelector('#df-21bc624a-5d09-4252-a322-6ccbf45e4fa2 button.colab-df-convert');\n",
              "      buttonEl.style.display =\n",
              "        google.colab.kernel.accessAllowed ? 'block' : 'none';\n",
              "\n",
              "      async function convertToInteractive(key) {\n",
              "        const element = document.querySelector('#df-21bc624a-5d09-4252-a322-6ccbf45e4fa2');\n",
              "        const dataTable =\n",
              "          await google.colab.kernel.invokeFunction('convertToInteractive',\n",
              "                                                    [key], {});\n",
              "        if (!dataTable) return;\n",
              "\n",
              "        const docLinkHtml = 'Like what you see? Visit the ' +\n",
              "          '<a target=\"_blank\" href=https://colab.research.google.com/notebooks/data_table.ipynb>data table notebook</a>'\n",
              "          + ' to learn more about interactive tables.';\n",
              "        element.innerHTML = '';\n",
              "        dataTable['output_type'] = 'display_data';\n",
              "        await google.colab.output.renderOutput(dataTable, element);\n",
              "        const docLink = document.createElement('div');\n",
              "        docLink.innerHTML = docLinkHtml;\n",
              "        element.appendChild(docLink);\n",
              "      }\n",
              "    </script>\n",
              "  </div>\n",
              "\n",
              "\n",
              "<div id=\"df-4b6c797e-d06e-4428-b06d-f1eb8229af9e\">\n",
              "  <button class=\"colab-df-quickchart\" onclick=\"quickchart('df-4b6c797e-d06e-4428-b06d-f1eb8229af9e')\"\n",
              "            title=\"Suggest charts\"\n",
              "            style=\"display:none;\">\n",
              "\n",
              "<svg xmlns=\"http://www.w3.org/2000/svg\" height=\"24px\"viewBox=\"0 0 24 24\"\n",
              "     width=\"24px\">\n",
              "    <g>\n",
              "        <path d=\"M19 3H5c-1.1 0-2 .9-2 2v14c0 1.1.9 2 2 2h14c1.1 0 2-.9 2-2V5c0-1.1-.9-2-2-2zM9 17H7v-7h2v7zm4 0h-2V7h2v10zm4 0h-2v-4h2v4z\"/>\n",
              "    </g>\n",
              "</svg>\n",
              "  </button>\n",
              "\n",
              "<style>\n",
              "  .colab-df-quickchart {\n",
              "      --bg-color: #E8F0FE;\n",
              "      --fill-color: #1967D2;\n",
              "      --hover-bg-color: #E2EBFA;\n",
              "      --hover-fill-color: #174EA6;\n",
              "      --disabled-fill-color: #AAA;\n",
              "      --disabled-bg-color: #DDD;\n",
              "  }\n",
              "\n",
              "  [theme=dark] .colab-df-quickchart {\n",
              "      --bg-color: #3B4455;\n",
              "      --fill-color: #D2E3FC;\n",
              "      --hover-bg-color: #434B5C;\n",
              "      --hover-fill-color: #FFFFFF;\n",
              "      --disabled-bg-color: #3B4455;\n",
              "      --disabled-fill-color: #666;\n",
              "  }\n",
              "\n",
              "  .colab-df-quickchart {\n",
              "    background-color: var(--bg-color);\n",
              "    border: none;\n",
              "    border-radius: 50%;\n",
              "    cursor: pointer;\n",
              "    display: none;\n",
              "    fill: var(--fill-color);\n",
              "    height: 32px;\n",
              "    padding: 0;\n",
              "    width: 32px;\n",
              "  }\n",
              "\n",
              "  .colab-df-quickchart:hover {\n",
              "    background-color: var(--hover-bg-color);\n",
              "    box-shadow: 0 1px 2px rgba(60, 64, 67, 0.3), 0 1px 3px 1px rgba(60, 64, 67, 0.15);\n",
              "    fill: var(--button-hover-fill-color);\n",
              "  }\n",
              "\n",
              "  .colab-df-quickchart-complete:disabled,\n",
              "  .colab-df-quickchart-complete:disabled:hover {\n",
              "    background-color: var(--disabled-bg-color);\n",
              "    fill: var(--disabled-fill-color);\n",
              "    box-shadow: none;\n",
              "  }\n",
              "\n",
              "  .colab-df-spinner {\n",
              "    border: 2px solid var(--fill-color);\n",
              "    border-color: transparent;\n",
              "    border-bottom-color: var(--fill-color);\n",
              "    animation:\n",
              "      spin 1s steps(1) infinite;\n",
              "  }\n",
              "\n",
              "  @keyframes spin {\n",
              "    0% {\n",
              "      border-color: transparent;\n",
              "      border-bottom-color: var(--fill-color);\n",
              "      border-left-color: var(--fill-color);\n",
              "    }\n",
              "    20% {\n",
              "      border-color: transparent;\n",
              "      border-left-color: var(--fill-color);\n",
              "      border-top-color: var(--fill-color);\n",
              "    }\n",
              "    30% {\n",
              "      border-color: transparent;\n",
              "      border-left-color: var(--fill-color);\n",
              "      border-top-color: var(--fill-color);\n",
              "      border-right-color: var(--fill-color);\n",
              "    }\n",
              "    40% {\n",
              "      border-color: transparent;\n",
              "      border-right-color: var(--fill-color);\n",
              "      border-top-color: var(--fill-color);\n",
              "    }\n",
              "    60% {\n",
              "      border-color: transparent;\n",
              "      border-right-color: var(--fill-color);\n",
              "    }\n",
              "    80% {\n",
              "      border-color: transparent;\n",
              "      border-right-color: var(--fill-color);\n",
              "      border-bottom-color: var(--fill-color);\n",
              "    }\n",
              "    90% {\n",
              "      border-color: transparent;\n",
              "      border-bottom-color: var(--fill-color);\n",
              "    }\n",
              "  }\n",
              "</style>\n",
              "\n",
              "  <script>\n",
              "    async function quickchart(key) {\n",
              "      const quickchartButtonEl =\n",
              "        document.querySelector('#' + key + ' button');\n",
              "      quickchartButtonEl.disabled = true;  // To prevent multiple clicks.\n",
              "      quickchartButtonEl.classList.add('colab-df-spinner');\n",
              "      try {\n",
              "        const charts = await google.colab.kernel.invokeFunction(\n",
              "            'suggestCharts', [key], {});\n",
              "      } catch (error) {\n",
              "        console.error('Error during call to suggestCharts:', error);\n",
              "      }\n",
              "      quickchartButtonEl.classList.remove('colab-df-spinner');\n",
              "      quickchartButtonEl.classList.add('colab-df-quickchart-complete');\n",
              "    }\n",
              "    (() => {\n",
              "      let quickchartButtonEl =\n",
              "        document.querySelector('#df-4b6c797e-d06e-4428-b06d-f1eb8229af9e button');\n",
              "      quickchartButtonEl.style.display =\n",
              "        google.colab.kernel.accessAllowed ? 'block' : 'none';\n",
              "    })();\n",
              "  </script>\n",
              "</div>\n",
              "\n",
              "    </div>\n",
              "  </div>\n"
            ],
            "application/vnd.google.colaboratory.intrinsic+json": {
              "type": "dataframe",
              "variable_name": "df",
              "summary": "{\n  \"name\": \"df\",\n  \"rows\": 1664,\n  \"fields\": [\n    {\n      \"column\": \"Date\",\n      \"properties\": {\n        \"dtype\": \"object\",\n        \"num_unique_values\": 1664,\n        \"samples\": [\n          \"8-Nov-11\",\n          \"9-Dec-16\",\n          \"27-Sep-16\"\n        ],\n        \"semantic_type\": \"\",\n        \"description\": \"\"\n      }\n    },\n    {\n      \"column\": \"Open\",\n      \"properties\": {\n        \"dtype\": \"number\",\n        \"std\": 28.25835972676523,\n        \"min\": 45.24,\n        \"max\": 159.9,\n        \"num_unique_values\": 1522,\n        \"samples\": [\n          126.09,\n          77.24,\n          48.94\n        ],\n        \"semantic_type\": \"\",\n        \"description\": \"\"\n      }\n    },\n    {\n      \"column\": \"High\",\n      \"properties\": {\n        \"dtype\": \"number\",\n        \"std\": 28.42184968381009,\n        \"min\": 45.39,\n        \"max\": 161.83,\n        \"num_unique_values\": 1510,\n        \"samples\": [\n          69.95,\n          111.44,\n          66.3\n        ],\n        \"semantic_type\": \"\",\n        \"description\": \"\"\n      }\n    },\n    {\n      \"column\": \"Low\",\n      \"properties\": {\n        \"dtype\": \"number\",\n        \"std\": 28.094247557075096,\n        \"min\": 44.36,\n        \"max\": 159.11,\n        \"num_unique_values\": 1498,\n        \"samples\": [\n          60.11,\n          53.64,\n          49.79\n        ],\n        \"semantic_type\": \"\",\n        \"description\": \"\"\n      }\n    },\n    {\n      \"column\": \"Close\",\n      \"properties\": {\n        \"dtype\": \"number\",\n        \"std\": 28.27235123140802,\n        \"min\": 45.05,\n        \"max\": 161.06,\n        \"num_unique_values\": 1498,\n        \"samples\": [\n          65.74,\n          51.94,\n          50.1\n        ],\n        \"semantic_type\": \"\",\n        \"description\": \"\"\n      }\n    },\n    {\n      \"column\": \"Volume\",\n      \"properties\": {\n        \"dtype\": \"number\",\n        \"std\": 54461905,\n        \"min\": 11475922,\n        \"max\": 470246700,\n        \"num_unique_values\": 1664,\n        \"samples\": [\n          100109842,\n          34402627,\n          24607412\n        ],\n        \"semantic_type\": \"\",\n        \"description\": \"\"\n      }\n    }\n  ]\n}"
            }
          },
          "metadata": {},
          "execution_count": 65
        }
      ]
    },
    {
      "cell_type": "code",
      "source": [
        "df.shape\n"
      ],
      "metadata": {
        "colab": {
          "base_uri": "https://localhost:8080/"
        },
        "id": "g6eV1huxm2T-",
        "outputId": "c82e00e4-b271-4e98-9cd8-0c03ee116667"
      },
      "execution_count": null,
      "outputs": [
        {
          "output_type": "execute_result",
          "data": {
            "text/plain": [
              "(1664, 6)"
            ]
          },
          "metadata": {},
          "execution_count": 66
        }
      ]
    },
    {
      "cell_type": "code",
      "source": [
        "df1=df.reset_index()['Close'];df1"
      ],
      "metadata": {
        "id": "-n9dUAPYm5kA",
        "colab": {
          "base_uri": "https://localhost:8080/"
        },
        "outputId": "b5e78267-a1e3-4efb-e07e-b7dd8c927f85"
      },
      "execution_count": null,
      "outputs": [
        {
          "output_type": "execute_result",
          "data": {
            "text/plain": [
              "0       157.48\n",
              "1       155.32\n",
              "2       161.06\n",
              "3       160.08\n",
              "4       158.81\n",
              "         ...  \n",
              "1659     48.02\n",
              "1660     47.68\n",
              "1661     47.71\n",
              "1662     47.33\n",
              "1663     47.08\n",
              "Name: Close, Length: 1664, dtype: float64"
            ]
          },
          "metadata": {},
          "execution_count": 67
        }
      ]
    },
    {
      "cell_type": "code",
      "source": [
        "plt.plot(df1);plt.show()"
      ],
      "metadata": {
        "colab": {
          "base_uri": "https://localhost:8080/",
          "height": 430
        },
        "id": "-0H8KrVym7lT",
        "outputId": "5e84e292-829b-4ce5-9b35-64939b0a1bce"
      },
      "execution_count": null,
      "outputs": [
        {
          "output_type": "display_data",
          "data": {
            "text/plain": [
              "<Figure size 640x480 with 1 Axes>"
            ],
            "image/png": "[encoded data removed]"
          },
          "metadata": {}
        }
      ]
    },
    {
      "cell_type": "code",
      "source": [
        "scaler=MinMaxScaler(feature_range=(0,1))\n",
        "df1=scaler.fit_transform(np.array(df1).reshape(-1,1));df1"
      ],
      "metadata": {
        "colab": {
          "base_uri": "https://localhost:8080/"
        },
        "id": "i-6_v2i3nMa-",
        "outputId": "d479bb02-430d-4e02-9206-baab07af629c"
      },
      "execution_count": null,
      "outputs": [
        {
          "output_type": "execute_result",
          "data": {
            "text/plain": [
              "array([[0.96914059],\n",
              "       [0.95052151],\n",
              "       [1.        ],\n",
              "       ...,\n",
              "       [0.02292906],\n",
              "       [0.01965348],\n",
              "       [0.01749849]])"
            ]
          },
          "metadata": {},
          "execution_count": 69
        }
      ]
    },
    {
      "cell_type": "code",
      "source": [
        "##splitting dataset into train and test split\n",
        "training_size=int(len(df1)*0.65)\n",
        "test_size=len(df1)-training_size\n",
        "train_data,test_data=df1[0:training_size,:],df1[training_size:len(df1),:1]\n",
        "print(training_size,test_size)"
      ],
      "metadata": {
        "id": "HEZAeksonP0s",
        "colab": {
          "base_uri": "https://localhost:8080/"
        },
        "outputId": "1dffb4de-68f3-4abd-dc2b-c3a0d4db351c"
      },
      "execution_count": null,
      "outputs": [
        {
          "output_type": "stream",
          "name": "stdout",
          "text": [
            "1081 583\n"
          ]
        }
      ]
    },
    {
      "cell_type": "code",
      "source": [
        "#convert an array of values into a dataset matrix\n",
        "def create_dataset(dataset, time_step=1):\n",
        "    dataX, dataY = [], []\n",
        "    for i in range(len(dataset)-time_step-1):\n",
        "        a = dataset[i:(i+time_step), 0]   ###i=0, 0,1,2,3-----99   100\n",
        "        dataX.append(a)\n",
        "        dataY.append(dataset[i + time_step, 0])\n",
        "    return np.array(dataX), np.array(dataY)"
      ],
      "metadata": {
        "id": "Ay6yvhYTnWam"
      },
      "execution_count": null,
      "outputs": []
    },
    {
      "cell_type": "code",
      "source": [
        "# reshape into X=t,t+1,t+2,t+3 and Y=t+4\n",
        "time_step = 100\n",
        "X_train, y_train = create_dataset(train_data, time_step)\n",
        "X_test, ytest = create_dataset(test_data, time_step)"
      ],
      "metadata": {
        "id": "sxOXi6O7naSw"
      },
      "execution_count": null,
      "outputs": []
    },
    {
      "cell_type": "code",
      "source": [
        "print(X_train.shape), print(y_train.shape),print(X_test.shape), print(ytest.shape)"
      ],
      "metadata": {
        "colab": {
          "base_uri": "https://localhost:8080/"
        },
        "id": "yLL50-bJndWY",
        "outputId": "0eee00c4-1563-4cac-bff3-8a2a0e0f36e7"
      },
      "execution_count": null,
      "outputs": [
        {
          "output_type": "stream",
          "name": "stdout",
          "text": [
            "(980, 100)\n",
            "(980,)\n",
            "(482, 100)\n",
            "(482,)\n"
          ]
        },
        {
          "output_type": "execute_result",
          "data": {
            "text/plain": [
              "(None, None, None, None)"
            ]
          },
          "metadata": {},
          "execution_count": 73
        }
      ]
    },
    {
      "cell_type": "code",
      "source": [
        "X_train =X_train.reshape(X_train.shape[0],X_train.shape[1] , 1)\n",
        "X_test = X_test.reshape(X_test.shape[0],X_test.shape[1] , 1)"
      ],
      "metadata": {
        "id": "ehuEvOrDnhQ-"
      },
      "execution_count": null,
      "outputs": []
    },
    {
      "cell_type": "code",
      "source": [
        "model=Sequential()\n",
        "model.add(LSTM(50,return_sequences=True,input_shape=(100,1)))\n",
        "model.add(LSTM(50,return_sequences=True))\n",
        "model.add(LSTM(50))\n",
        "model.add(Dense(1))\n",
        "model.compile(loss='mse',optimizer='adam')\n",
        "model.summary()"
      ],
      "metadata": {
        "id": "7em5SCqcnl1V",
        "colab": {
          "base_uri": "https://localhost:8080/"
        },
        "outputId": "b3c9791b-7921-495c-96f2-91a79c45fd47"
      },
      "execution_count": null,
      "outputs": [
        {
          "output_type": "stream",
          "name": "stdout",
          "text": [
            "Model: \"sequential_1\"\n",
            "_________________________________________________________________\n",
            " Layer (type)                Output Shape              Param #   \n",
            "=================================================================\n",
            " lstm_3 (LSTM)               (None, 100, 50)           10400     \n",
            "                                                                 \n",
            " lstm_4 (LSTM)               (None, 100, 50)           20200     \n",
            "                                                                 \n",
            " lstm_5 (LSTM)               (None, 50)                20200     \n",
            "                                                                 \n",
            " dense_1 (Dense)             (None, 1)                 51        \n",
            "                                                                 \n",
            "=================================================================\n",
            "Total params: 50851 (198.64 KB)\n",
            "Trainable params: 50851 (198.64 KB)\n",
            "Non-trainable params: 0 (0.00 Byte)\n",
            "_________________________________________________________________\n"
          ]
        }
      ]
    },
    {
      "cell_type": "code",
      "source": [
        "history=model.fit(X_train,y_train,validation_data=(X_test,ytest),epochs=100,batch_size=64,verbose=0)"
      ],
      "metadata": {
        "id": "qhgVKHjInok8"
      },
      "execution_count": null,
      "outputs": []
    },
    {
      "cell_type": "code",
      "source": [
        "# Show the learning curves\n",
        "history_df = pd.DataFrame(history.history)\n",
        "history_df.loc[:, ['loss', 'val_loss']].plot();"
      ],
      "metadata": {
        "colab": {
          "base_uri": "https://localhost:8080/",
          "height": 430
        },
        "id": "iA-8TvmOnqRb",
        "outputId": "16065a38-c218-45d1-f209-d338dc4e8592"
      },
      "execution_count": null,
      "outputs": [
        {
          "output_type": "display_data",
          "data": {
            "text/plain": [
              "<Figure size 640x480 with 1 Axes>"
            ],
            "image/png": "[encoded data removed]"
          },
          "metadata": {}
        }
      ]
    },
    {
      "cell_type": "code",
      "source": [
        "train_predict=model.predict(X_train) #prediction\n",
        "test_predict=model.predict(X_test)"
      ],
      "metadata": {
        "id": "0Z3BDBxdnrsm",
        "colab": {
          "base_uri": "https://localhost:8080/"
        },
        "outputId": "47cca084-f798-466b-d090-9fca800b0ac6"
      },
      "execution_count": null,
      "outputs": [
        {
          "output_type": "stream",
          "name": "stdout",
          "text": [
            "31/31 [==============================] - 3s 46ms/step\n",
            "16/16 [==============================] - 1s 36ms/step\n"
          ]
        }
      ]
    },
    {
      "cell_type": "code",
      "source": [
        "##Transformback to original form\n",
        "train_predict=scaler.inverse_transform(train_predict)\n",
        "test_predict=scaler.inverse_transform(test_predict)"
      ],
      "metadata": {
        "id": "nC3dvr1dntyd"
      },
      "execution_count": null,
      "outputs": []
    },
    {
      "cell_type": "code",
      "source": [
        "#Calculate RMSE performance metrics\n",
        "from sklearn.metrics import mean_squared_error\n",
        "print(math.sqrt(mean_squared_error(y_train,train_predict)))\n",
        "print(math.sqrt(mean_squared_error(ytest,test_predict)))"
      ],
      "metadata": {
        "id": "RtfRRfAxnvWQ",
        "colab": {
          "base_uri": "https://localhost:8080/"
        },
        "outputId": "599bc89c-f27d-408a-9bb2-317a2bef0157"
      },
      "execution_count": null,
      "outputs": [
        {
          "output_type": "stream",
          "name": "stdout",
          "text": [
            "103.86650671657279\n",
            "69.6742627058206\n"
          ]
        }
      ]
    },
    {
      "cell_type": "code",
      "source": [
        "# shift train predictions for plotting\n",
        "look_back=100\n",
        "trainPredictPlot = np.empty_like(df1)\n",
        "trainPredictPlot[:, :] = np.nan\n",
        "trainPredictPlot[look_back:len(train_predict)+look_back, :] = train_predict\n",
        "# shift test predictions for plotting\n",
        "testPredictPlot = np.empty_like(df1)\n",
        "testPredictPlot[:, :] = np.nan\n",
        "testPredictPlot[len(train_predict)+(look_back*2)+1:len(df1)-1, :] = test_predict\n",
        "# plot baseline and predictions\n",
        "plt.plot(scaler.inverse_transform(df1))\n",
        "plt.plot(trainPredictPlot)\n",
        "plt.plot(testPredictPlot)\n",
        "plt.legend()\n",
        "plt.show()"
      ],
      "metadata": {
        "colab": {
          "base_uri": "https://localhost:8080/",
          "height": 447
        },
        "id": "_D9f5NuInxOq",
        "outputId": "0fa923d3-5bdd-4a8e-a9ba-850b582f29e5"
      },
      "execution_count": null,
      "outputs": [
        {
          "output_type": "stream",
          "name": "stderr",
          "text": [
            "WARNING:matplotlib.legend:No artists with labels found to put in legend.  Note that artists whose label start with an underscore are ignored when legend() is called with no argument.\n"
          ]
        },
        {
          "output_type": "display_data",
          "data": {
            "text/plain": [
              "<Figure size 640x480 with 1 Axes>"
            ],
            "image/png": "[encoded data removed]"
          },
          "metadata": {}
        }
      ]
    },
    {
      "cell_type": "code",
      "source": [
        "x_input=test_data[483:].reshape(1,-1) #len(test_data)\n",
        "temp_input=list(x_input)\n",
        "temp_input=temp_input[0].tolist()"
      ],
      "metadata": {
        "id": "intl1dBJnz4h"
      },
      "execution_count": null,
      "outputs": []
    },
    {
      "cell_type": "code",
      "source": [
        "# demonstrate prediction for next 10 days\n",
        "lst_output=[]\n",
        "n_steps=100\n",
        "i=0\n",
        "while(i<30):\n",
        "\n",
        "    if(len(temp_input)>100):\n",
        "        #print(temp_input)\n",
        "        x_input=np.array(temp_input[1:])\n",
        "        print(\"{} day input {}\".format(i,x_input))\n",
        "        x_input=x_input.reshape(1,-1)\n",
        "        x_input = x_input.reshape((1, n_steps, 1))\n",
        "        #print(x_input)\n",
        "        yhat = model.predict(x_input, verbose=0)\n",
        "        print(\"{} day output {}\".format(i,yhat))\n",
        "        temp_input.extend(yhat[0].tolist())\n",
        "        temp_input=temp_input[1:]\n",
        "        #print(temp_input)\n",
        "        lst_output.extend(yhat.tolist())\n",
        "        i=i+1\n",
        "    else:\n",
        "        x_input = x_input.reshape((1, n_steps,1))\n",
        "        yhat = model.predict(x_input, verbose=0)\n",
        "        print(yhat[0])\n",
        "        temp_input.extend(yhat[0].tolist())\n",
        "        print(len(temp_input))\n",
        "        lst_output.extend(yhat.tolist())\n",
        "        i=i+1\n",
        "\n",
        "\n",
        "print(lst_output)"
      ],
      "metadata": {
        "colab": {
          "base_uri": "https://localhost:8080/"
        },
        "id": "_j8gGiwgn3QV",
        "outputId": "6cc0cb15-1037-43e6-a864-6557ec49c069"
      },
      "execution_count": null,
      "outputs": [
        {
          "output_type": "stream",
          "name": "stdout",
          "text": [
            "[0.02991368]\n",
            "101\n",
            "1 day input [0.02077407 0.02344625 0.02448065 0.03103181 0.03016981 0.02560124\n",
            " 0.02206706 0.03094561 0.03844496 0.03922076 0.04197914 0.03973795\n",
            " 0.03853116 0.03870356 0.04215154 0.04042755 0.03810016 0.04284113\n",
            " 0.03870356 0.04284113 0.04318593 0.04637531 0.04353073 0.03335919\n",
            " 0.02775623 0.02034307 0.01491251 0.02103267 0.02560124 0.02103267\n",
            " 0.01905008 0.02430825 0.02801483 0.02792863 0.02896302 0.0318076\n",
            " 0.03594518 0.04085855 0.04094475 0.04387553 0.04318593 0.04456512\n",
            " 0.03646237 0.02939402 0.0318076  0.02948022 0.01887768 0.02379105\n",
            " 0.01801569 0.03706577 0.04706491 0.04508232 0.03853116 0.04568572\n",
            " 0.04973709 0.04930609 0.05499526 0.05447806 0.04525472 0.04180674\n",
            " 0.04663391 0.04042755 0.03387639 0.03361779 0.02861822 0.04335833\n",
            " 0.05292647 0.05887423 0.05482286 0.05396087 0.05111628 0.0482717\n",
            " 0.05275407 0.0490475  0.04499612 0.03835876 0.03456599 0.03568658\n",
            " 0.03654857 0.02948022 0.02551504 0.03430739 0.03508318 0.0320662\n",
            " 0.02723903 0.01396431 0.02137747 0.02896302 0.03111801 0.04077235\n",
            " 0.03732437 0.03577278 0.032411   0.03335919 0.02560124 0.02267046\n",
            " 0.02292906 0.01965348 0.01749849 0.02991368]\n",
            "1 day output [[0.02854352]]\n",
            "2 day input [0.02344625 0.02448065 0.03103181 0.03016981 0.02560124 0.02206706\n",
            " 0.03094561 0.03844496 0.03922076 0.04197914 0.03973795 0.03853116\n",
            " 0.03870356 0.04215154 0.04042755 0.03810016 0.04284113 0.03870356\n",
            " 0.04284113 0.04318593 0.04637531 0.04353073 0.03335919 0.02775623\n",
            " 0.02034307 0.01491251 0.02103267 0.02560124 0.02103267 0.01905008\n",
            " 0.02430825 0.02801483 0.02792863 0.02896302 0.0318076  0.03594518\n",
            " 0.04085855 0.04094475 0.04387553 0.04318593 0.04456512 0.03646237\n",
            " 0.02939402 0.0318076  0.02948022 0.01887768 0.02379105 0.01801569\n",
            " 0.03706577 0.04706491 0.04508232 0.03853116 0.04568572 0.04973709\n",
            " 0.04930609 0.05499526 0.05447806 0.04525472 0.04180674 0.04663391\n",
            " 0.04042755 0.03387639 0.03361779 0.02861822 0.04335833 0.05292647\n",
            " 0.05887423 0.05482286 0.05396087 0.05111628 0.0482717  0.05275407\n",
            " 0.0490475  0.04499612 0.03835876 0.03456599 0.03568658 0.03654857\n",
            " 0.02948022 0.02551504 0.03430739 0.03508318 0.0320662  0.02723903\n",
            " 0.01396431 0.02137747 0.02896302 0.03111801 0.04077235 0.03732437\n",
            " 0.03577278 0.032411   0.03335919 0.02560124 0.02267046 0.02292906\n",
            " 0.01965348 0.01749849 0.02991368 0.02854352]\n",
            "2 day output [[0.02814018]]\n",
            "3 day input [0.02448065 0.03103181 0.03016981 0.02560124 0.02206706 0.03094561\n",
            " 0.03844496 0.03922076 0.04197914 0.03973795 0.03853116 0.03870356\n",
            " 0.04215154 0.04042755 0.03810016 0.04284113 0.03870356 0.04284113\n",
            " 0.04318593 0.04637531 0.04353073 0.03335919 0.02775623 0.02034307\n",
            " 0.01491251 0.02103267 0.02560124 0.02103267 0.01905008 0.02430825\n",
            " 0.02801483 0.02792863 0.02896302 0.0318076  0.03594518 0.04085855\n",
            " 0.04094475 0.04387553 0.04318593 0.04456512 0.03646237 0.02939402\n",
            " 0.0318076  0.02948022 0.01887768 0.02379105 0.01801569 0.03706577\n",
            " 0.04706491 0.04508232 0.03853116 0.04568572 0.04973709 0.04930609\n",
            " 0.05499526 0.05447806 0.04525472 0.04180674 0.04663391 0.04042755\n",
            " 0.03387639 0.03361779 0.02861822 0.04335833 0.05292647 0.05887423\n",
            " 0.05482286 0.05396087 0.05111628 0.0482717  0.05275407 0.0490475\n",
            " 0.04499612 0.03835876 0.03456599 0.03568658 0.03654857 0.02948022\n",
            " 0.02551504 0.03430739 0.03508318 0.0320662  0.02723903 0.01396431\n",
            " 0.02137747 0.02896302 0.03111801 0.04077235 0.03732437 0.03577278\n",
            " 0.032411   0.03335919 0.02560124 0.02267046 0.02292906 0.01965348\n",
            " 0.01749849 0.02991368 0.02854352 0.02814018]\n",
            "3 day output [[0.02842639]]\n",
            "4 day input [0.03103181 0.03016981 0.02560124 0.02206706 0.03094561 0.03844496\n",
            " 0.03922076 0.04197914 0.03973795 0.03853116 0.03870356 0.04215154\n",
            " 0.04042755 0.03810016 0.04284113 0.03870356 0.04284113 0.04318593\n",
            " 0.04637531 0.04353073 0.03335919 0.02775623 0.02034307 0.01491251\n",
            " 0.02103267 0.02560124 0.02103267 0.01905008 0.02430825 0.02801483\n",
            " 0.02792863 0.02896302 0.0318076  0.03594518 0.04085855 0.04094475\n",
            " 0.04387553 0.04318593 0.04456512 0.03646237 0.02939402 0.0318076\n",
            " 0.02948022 0.01887768 0.02379105 0.01801569 0.03706577 0.04706491\n",
            " 0.04508232 0.03853116 0.04568572 0.04973709 0.04930609 0.05499526\n",
            " 0.05447806 0.04525472 0.04180674 0.04663391 0.04042755 0.03387639\n",
            " 0.03361779 0.02861822 0.04335833 0.05292647 0.05887423 0.05482286\n",
            " 0.05396087 0.05111628 0.0482717  0.05275407 0.0490475  0.04499612\n",
            " 0.03835876 0.03456599 0.03568658 0.03654857 0.02948022 0.02551504\n",
            " 0.03430739 0.03508318 0.0320662  0.02723903 0.01396431 0.02137747\n",
            " 0.02896302 0.03111801 0.04077235 0.03732437 0.03577278 0.032411\n",
            " 0.03335919 0.02560124 0.02267046 0.02292906 0.01965348 0.01749849\n",
            " 0.02991368 0.02854352 0.02814018 0.02842639]\n",
            "4 day output [[0.02910858]]\n",
            "5 day input [0.03016981 0.02560124 0.02206706 0.03094561 0.03844496 0.03922076\n",
            " 0.04197914 0.03973795 0.03853116 0.03870356 0.04215154 0.04042755\n",
            " 0.03810016 0.04284113 0.03870356 0.04284113 0.04318593 0.04637531\n",
            " 0.04353073 0.03335919 0.02775623 0.02034307 0.01491251 0.02103267\n",
            " 0.02560124 0.02103267 0.01905008 0.02430825 0.02801483 0.02792863\n",
            " 0.02896302 0.0318076  0.03594518 0.04085855 0.04094475 0.04387553\n",
            " 0.04318593 0.04456512 0.03646237 0.02939402 0.0318076  0.02948022\n",
            " 0.01887768 0.02379105 0.01801569 0.03706577 0.04706491 0.04508232\n",
            " 0.03853116 0.04568572 0.04973709 0.04930609 0.05499526 0.05447806\n",
            " 0.04525472 0.04180674 0.04663391 0.04042755 0.03387639 0.03361779\n",
            " 0.02861822 0.04335833 0.05292647 0.05887423 0.05482286 0.05396087\n",
            " 0.05111628 0.0482717  0.05275407 0.0490475  0.04499612 0.03835876\n",
            " 0.03456599 0.03568658 0.03654857 0.02948022 0.02551504 0.03430739\n",
            " 0.03508318 0.0320662  0.02723903 0.01396431 0.02137747 0.02896302\n",
            " 0.03111801 0.04077235 0.03732437 0.03577278 0.032411   0.03335919\n",
            " 0.02560124 0.02267046 0.02292906 0.01965348 0.01749849 0.02991368\n",
            " 0.02854352 0.02814018 0.02842639 0.02910858]\n",
            "5 day output [[0.02997329]]\n",
            "6 day input [0.02560124 0.02206706 0.03094561 0.03844496 0.03922076 0.04197914\n",
            " 0.03973795 0.03853116 0.03870356 0.04215154 0.04042755 0.03810016\n",
            " 0.04284113 0.03870356 0.04284113 0.04318593 0.04637531 0.04353073\n",
            " 0.03335919 0.02775623 0.02034307 0.01491251 0.02103267 0.02560124\n",
            " 0.02103267 0.01905008 0.02430825 0.02801483 0.02792863 0.02896302\n",
            " 0.0318076  0.03594518 0.04085855 0.04094475 0.04387553 0.04318593\n",
            " 0.04456512 0.03646237 0.02939402 0.0318076  0.02948022 0.01887768\n",
            " 0.02379105 0.01801569 0.03706577 0.04706491 0.04508232 0.03853116\n",
            " 0.04568572 0.04973709 0.04930609 0.05499526 0.05447806 0.04525472\n",
            " 0.04180674 0.04663391 0.04042755 0.03387639 0.03361779 0.02861822\n",
            " 0.04335833 0.05292647 0.05887423 0.05482286 0.05396087 0.05111628\n",
            " 0.0482717  0.05275407 0.0490475  0.04499612 0.03835876 0.03456599\n",
            " 0.03568658 0.03654857 0.02948022 0.02551504 0.03430739 0.03508318\n",
            " 0.0320662  0.02723903 0.01396431 0.02137747 0.02896302 0.03111801\n",
            " 0.04077235 0.03732437 0.03577278 0.032411   0.03335919 0.02560124\n",
            " 0.02267046 0.02292906 0.01965348 0.01749849 0.02991368 0.02854352\n",
            " 0.02814018 0.02842639 0.02910858 0.02997329]\n",
            "6 day output [[0.03089355]]\n",
            "7 day input [0.02206706 0.03094561 0.03844496 0.03922076 0.04197914 0.03973795\n",
            " 0.03853116 0.03870356 0.04215154 0.04042755 0.03810016 0.04284113\n",
            " 0.03870356 0.04284113 0.04318593 0.04637531 0.04353073 0.03335919\n",
            " 0.02775623 0.02034307 0.01491251 0.02103267 0.02560124 0.02103267\n",
            " 0.01905008 0.02430825 0.02801483 0.02792863 0.02896302 0.0318076\n",
            " 0.03594518 0.04085855 0.04094475 0.04387553 0.04318593 0.04456512\n",
            " 0.03646237 0.02939402 0.0318076  0.02948022 0.01887768 0.02379105\n",
            " 0.01801569 0.03706577 0.04706491 0.04508232 0.03853116 0.04568572\n",
            " 0.04973709 0.04930609 0.05499526 0.05447806 0.04525472 0.04180674\n",
            " 0.04663391 0.04042755 0.03387639 0.03361779 0.02861822 0.04335833\n",
            " 0.05292647 0.05887423 0.05482286 0.05396087 0.05111628 0.0482717\n",
            " 0.05275407 0.0490475  0.04499612 0.03835876 0.03456599 0.03568658\n",
            " 0.03654857 0.02948022 0.02551504 0.03430739 0.03508318 0.0320662\n",
            " 0.02723903 0.01396431 0.02137747 0.02896302 0.03111801 0.04077235\n",
            " 0.03732437 0.03577278 0.032411   0.03335919 0.02560124 0.02267046\n",
            " 0.02292906 0.01965348 0.01749849 0.02991368 0.02854352 0.02814018\n",
            " 0.02842639 0.02910858 0.02997329 0.03089355]\n",
            "7 day output [[0.03180567]]\n",
            "8 day input [0.03094561 0.03844496 0.03922076 0.04197914 0.03973795 0.03853116\n",
            " 0.03870356 0.04215154 0.04042755 0.03810016 0.04284113 0.03870356\n",
            " 0.04284113 0.04318593 0.04637531 0.04353073 0.03335919 0.02775623\n",
            " 0.02034307 0.01491251 0.02103267 0.02560124 0.02103267 0.01905008\n",
            " 0.02430825 0.02801483 0.02792863 0.02896302 0.0318076  0.03594518\n",
            " 0.04085855 0.04094475 0.04387553 0.04318593 0.04456512 0.03646237\n",
            " 0.02939402 0.0318076  0.02948022 0.01887768 0.02379105 0.01801569\n",
            " 0.03706577 0.04706491 0.04508232 0.03853116 0.04568572 0.04973709\n",
            " 0.04930609 0.05499526 0.05447806 0.04525472 0.04180674 0.04663391\n",
            " 0.04042755 0.03387639 0.03361779 0.02861822 0.04335833 0.05292647\n",
            " 0.05887423 0.05482286 0.05396087 0.05111628 0.0482717  0.05275407\n",
            " 0.0490475  0.04499612 0.03835876 0.03456599 0.03568658 0.03654857\n",
            " 0.02948022 0.02551504 0.03430739 0.03508318 0.0320662  0.02723903\n",
            " 0.01396431 0.02137747 0.02896302 0.03111801 0.04077235 0.03732437\n",
            " 0.03577278 0.032411   0.03335919 0.02560124 0.02267046 0.02292906\n",
            " 0.01965348 0.01749849 0.02991368 0.02854352 0.02814018 0.02842639\n",
            " 0.02910858 0.02997329 0.03089355 0.03180567]\n",
            "8 day output [[0.03268397]]\n",
            "9 day input [0.03844496 0.03922076 0.04197914 0.03973795 0.03853116 0.03870356\n",
            " 0.04215154 0.04042755 0.03810016 0.04284113 0.03870356 0.04284113\n",
            " 0.04318593 0.04637531 0.04353073 0.03335919 0.02775623 0.02034307\n",
            " 0.01491251 0.02103267 0.02560124 0.02103267 0.01905008 0.02430825\n",
            " 0.02801483 0.02792863 0.02896302 0.0318076  0.03594518 0.04085855\n",
            " 0.04094475 0.04387553 0.04318593 0.04456512 0.03646237 0.02939402\n",
            " 0.0318076  0.02948022 0.01887768 0.02379105 0.01801569 0.03706577\n",
            " 0.04706491 0.04508232 0.03853116 0.04568572 0.04973709 0.04930609\n",
            " 0.05499526 0.05447806 0.04525472 0.04180674 0.04663391 0.04042755\n",
            " 0.03387639 0.03361779 0.02861822 0.04335833 0.05292647 0.05887423\n",
            " 0.05482286 0.05396087 0.05111628 0.0482717  0.05275407 0.0490475\n",
            " 0.04499612 0.03835876 0.03456599 0.03568658 0.03654857 0.02948022\n",
            " 0.02551504 0.03430739 0.03508318 0.0320662  0.02723903 0.01396431\n",
            " 0.02137747 0.02896302 0.03111801 0.04077235 0.03732437 0.03577278\n",
            " 0.032411   0.03335919 0.02560124 0.02267046 0.02292906 0.01965348\n",
            " 0.01749849 0.02991368 0.02854352 0.02814018 0.02842639 0.02910858\n",
            " 0.02997329 0.03089355 0.03180567 0.03268397]\n",
            "9 day output [[0.03352226]]\n",
            "10 day input [0.03922076 0.04197914 0.03973795 0.03853116 0.03870356 0.04215154\n",
            " 0.04042755 0.03810016 0.04284113 0.03870356 0.04284113 0.04318593\n",
            " 0.04637531 0.04353073 0.03335919 0.02775623 0.02034307 0.01491251\n",
            " 0.02103267 0.02560124 0.02103267 0.01905008 0.02430825 0.02801483\n",
            " 0.02792863 0.02896302 0.0318076  0.03594518 0.04085855 0.04094475\n",
            " 0.04387553 0.04318593 0.04456512 0.03646237 0.02939402 0.0318076\n",
            " 0.02948022 0.01887768 0.02379105 0.01801569 0.03706577 0.04706491\n",
            " 0.04508232 0.03853116 0.04568572 0.04973709 0.04930609 0.05499526\n",
            " 0.05447806 0.04525472 0.04180674 0.04663391 0.04042755 0.03387639\n",
            " 0.03361779 0.02861822 0.04335833 0.05292647 0.05887423 0.05482286\n",
            " 0.05396087 0.05111628 0.0482717  0.05275407 0.0490475  0.04499612\n",
            " 0.03835876 0.03456599 0.03568658 0.03654857 0.02948022 0.02551504\n",
            " 0.03430739 0.03508318 0.0320662  0.02723903 0.01396431 0.02137747\n",
            " 0.02896302 0.03111801 0.04077235 0.03732437 0.03577278 0.032411\n",
            " 0.03335919 0.02560124 0.02267046 0.02292906 0.01965348 0.01749849\n",
            " 0.02991368 0.02854352 0.02814018 0.02842639 0.02910858 0.02997329\n",
            " 0.03089355 0.03180567 0.03268397 0.03352226]\n",
            "10 day output [[0.03432292]]\n",
            "11 day input [0.04197914 0.03973795 0.03853116 0.03870356 0.04215154 0.04042755\n",
            " 0.03810016 0.04284113 0.03870356 0.04284113 0.04318593 0.04637531\n",
            " 0.04353073 0.03335919 0.02775623 0.02034307 0.01491251 0.02103267\n",
            " 0.02560124 0.02103267 0.01905008 0.02430825 0.02801483 0.02792863\n",
            " 0.02896302 0.0318076  0.03594518 0.04085855 0.04094475 0.04387553\n",
            " 0.04318593 0.04456512 0.03646237 0.02939402 0.0318076  0.02948022\n",
            " 0.01887768 0.02379105 0.01801569 0.03706577 0.04706491 0.04508232\n",
            " 0.03853116 0.04568572 0.04973709 0.04930609 0.05499526 0.05447806\n",
            " 0.04525472 0.04180674 0.04663391 0.04042755 0.03387639 0.03361779\n",
            " 0.02861822 0.04335833 0.05292647 0.05887423 0.05482286 0.05396087\n",
            " 0.05111628 0.0482717  0.05275407 0.0490475  0.04499612 0.03835876\n",
            " 0.03456599 0.03568658 0.03654857 0.02948022 0.02551504 0.03430739\n",
            " 0.03508318 0.0320662  0.02723903 0.01396431 0.02137747 0.02896302\n",
            " 0.03111801 0.04077235 0.03732437 0.03577278 0.032411   0.03335919\n",
            " 0.02560124 0.02267046 0.02292906 0.01965348 0.01749849 0.02991368\n",
            " 0.02854352 0.02814018 0.02842639 0.02910858 0.02997329 0.03089355\n",
            " 0.03180567 0.03268397 0.03352226 0.03432292]\n",
            "11 day output [[0.03509117]]\n",
            "12 day input [0.03973795 0.03853116 0.03870356 0.04215154 0.04042755 0.03810016\n",
            " 0.04284113 0.03870356 0.04284113 0.04318593 0.04637531 0.04353073\n",
            " 0.03335919 0.02775623 0.02034307 0.01491251 0.02103267 0.02560124\n",
            " 0.02103267 0.01905008 0.02430825 0.02801483 0.02792863 0.02896302\n",
            " 0.0318076  0.03594518 0.04085855 0.04094475 0.04387553 0.04318593\n",
            " 0.04456512 0.03646237 0.02939402 0.0318076  0.02948022 0.01887768\n",
            " 0.02379105 0.01801569 0.03706577 0.04706491 0.04508232 0.03853116\n",
            " 0.04568572 0.04973709 0.04930609 0.05499526 0.05447806 0.04525472\n",
            " 0.04180674 0.04663391 0.04042755 0.03387639 0.03361779 0.02861822\n",
            " 0.04335833 0.05292647 0.05887423 0.05482286 0.05396087 0.05111628\n",
            " 0.0482717  0.05275407 0.0490475  0.04499612 0.03835876 0.03456599\n",
            " 0.03568658 0.03654857 0.02948022 0.02551504 0.03430739 0.03508318\n",
            " 0.0320662  0.02723903 0.01396431 0.02137747 0.02896302 0.03111801\n",
            " 0.04077235 0.03732437 0.03577278 0.032411   0.03335919 0.02560124\n",
            " 0.02267046 0.02292906 0.01965348 0.01749849 0.02991368 0.02854352\n",
            " 0.02814018 0.02842639 0.02910858 0.02997329 0.03089355 0.03180567\n",
            " 0.03268397 0.03352226 0.03432292 0.03509117]\n",
            "12 day output [[0.03583274]]\n",
            "13 day input [0.03853116 0.03870356 0.04215154 0.04042755 0.03810016 0.04284113\n",
            " 0.03870356 0.04284113 0.04318593 0.04637531 0.04353073 0.03335919\n",
            " 0.02775623 0.02034307 0.01491251 0.02103267 0.02560124 0.02103267\n",
            " 0.01905008 0.02430825 0.02801483 0.02792863 0.02896302 0.0318076\n",
            " 0.03594518 0.04085855 0.04094475 0.04387553 0.04318593 0.04456512\n",
            " 0.03646237 0.02939402 0.0318076  0.02948022 0.01887768 0.02379105\n",
            " 0.01801569 0.03706577 0.04706491 0.04508232 0.03853116 0.04568572\n",
            " 0.04973709 0.04930609 0.05499526 0.05447806 0.04525472 0.04180674\n",
            " 0.04663391 0.04042755 0.03387639 0.03361779 0.02861822 0.04335833\n",
            " 0.05292647 0.05887423 0.05482286 0.05396087 0.05111628 0.0482717\n",
            " 0.05275407 0.0490475  0.04499612 0.03835876 0.03456599 0.03568658\n",
            " 0.03654857 0.02948022 0.02551504 0.03430739 0.03508318 0.0320662\n",
            " 0.02723903 0.01396431 0.02137747 0.02896302 0.03111801 0.04077235\n",
            " 0.03732437 0.03577278 0.032411   0.03335919 0.02560124 0.02267046\n",
            " 0.02292906 0.01965348 0.01749849 0.02991368 0.02854352 0.02814018\n",
            " 0.02842639 0.02910858 0.02997329 0.03089355 0.03180567 0.03268397\n",
            " 0.03352226 0.03432292 0.03509117 0.03583274]\n",
            "13 day output [[0.03655295]]\n",
            "14 day input [0.03870356 0.04215154 0.04042755 0.03810016 0.04284113 0.03870356\n",
            " 0.04284113 0.04318593 0.04637531 0.04353073 0.03335919 0.02775623\n",
            " 0.02034307 0.01491251 0.02103267 0.02560124 0.02103267 0.01905008\n",
            " 0.02430825 0.02801483 0.02792863 0.02896302 0.0318076  0.03594518\n",
            " 0.04085855 0.04094475 0.04387553 0.04318593 0.04456512 0.03646237\n",
            " 0.02939402 0.0318076  0.02948022 0.01887768 0.02379105 0.01801569\n",
            " 0.03706577 0.04706491 0.04508232 0.03853116 0.04568572 0.04973709\n",
            " 0.04930609 0.05499526 0.05447806 0.04525472 0.04180674 0.04663391\n",
            " 0.04042755 0.03387639 0.03361779 0.02861822 0.04335833 0.05292647\n",
            " 0.05887423 0.05482286 0.05396087 0.05111628 0.0482717  0.05275407\n",
            " 0.0490475  0.04499612 0.03835876 0.03456599 0.03568658 0.03654857\n",
            " 0.02948022 0.02551504 0.03430739 0.03508318 0.0320662  0.02723903\n",
            " 0.01396431 0.02137747 0.02896302 0.03111801 0.04077235 0.03732437\n",
            " 0.03577278 0.032411   0.03335919 0.02560124 0.02267046 0.02292906\n",
            " 0.01965348 0.01749849 0.02991368 0.02854352 0.02814018 0.02842639\n",
            " 0.02910858 0.02997329 0.03089355 0.03180567 0.03268397 0.03352226\n",
            " 0.03432292 0.03509117 0.03583274 0.03655295]\n",
            "14 day output [[0.03725656]]\n",
            "15 day input [0.04215154 0.04042755 0.03810016 0.04284113 0.03870356 0.04284113\n",
            " 0.04318593 0.04637531 0.04353073 0.03335919 0.02775623 0.02034307\n",
            " 0.01491251 0.02103267 0.02560124 0.02103267 0.01905008 0.02430825\n",
            " 0.02801483 0.02792863 0.02896302 0.0318076  0.03594518 0.04085855\n",
            " 0.04094475 0.04387553 0.04318593 0.04456512 0.03646237 0.02939402\n",
            " 0.0318076  0.02948022 0.01887768 0.02379105 0.01801569 0.03706577\n",
            " 0.04706491 0.04508232 0.03853116 0.04568572 0.04973709 0.04930609\n",
            " 0.05499526 0.05447806 0.04525472 0.04180674 0.04663391 0.04042755\n",
            " 0.03387639 0.03361779 0.02861822 0.04335833 0.05292647 0.05887423\n",
            " 0.05482286 0.05396087 0.05111628 0.0482717  0.05275407 0.0490475\n",
            " 0.04499612 0.03835876 0.03456599 0.03568658 0.03654857 0.02948022\n",
            " 0.02551504 0.03430739 0.03508318 0.0320662  0.02723903 0.01396431\n",
            " 0.02137747 0.02896302 0.03111801 0.04077235 0.03732437 0.03577278\n",
            " 0.032411   0.03335919 0.02560124 0.02267046 0.02292906 0.01965348\n",
            " 0.01749849 0.02991368 0.02854352 0.02814018 0.02842639 0.02910858\n",
            " 0.02997329 0.03089355 0.03180567 0.03268397 0.03352226 0.03432292\n",
            " 0.03509117 0.03583274 0.03655295 0.03725656]\n",
            "15 day output [[0.03794768]]\n",
            "16 day input [0.04042755 0.03810016 0.04284113 0.03870356 0.04284113 0.04318593\n",
            " 0.04637531 0.04353073 0.03335919 0.02775623 0.02034307 0.01491251\n",
            " 0.02103267 0.02560124 0.02103267 0.01905008 0.02430825 0.02801483\n",
            " 0.02792863 0.02896302 0.0318076  0.03594518 0.04085855 0.04094475\n",
            " 0.04387553 0.04318593 0.04456512 0.03646237 0.02939402 0.0318076\n",
            " 0.02948022 0.01887768 0.02379105 0.01801569 0.03706577 0.04706491\n",
            " 0.04508232 0.03853116 0.04568572 0.04973709 0.04930609 0.05499526\n",
            " 0.05447806 0.04525472 0.04180674 0.04663391 0.04042755 0.03387639\n",
            " 0.03361779 0.02861822 0.04335833 0.05292647 0.05887423 0.05482286\n",
            " 0.05396087 0.05111628 0.0482717  0.05275407 0.0490475  0.04499612\n",
            " 0.03835876 0.03456599 0.03568658 0.03654857 0.02948022 0.02551504\n",
            " 0.03430739 0.03508318 0.0320662  0.02723903 0.01396431 0.02137747\n",
            " 0.02896302 0.03111801 0.04077235 0.03732437 0.03577278 0.032411\n",
            " 0.03335919 0.02560124 0.02267046 0.02292906 0.01965348 0.01749849\n",
            " 0.02991368 0.02854352 0.02814018 0.02842639 0.02910858 0.02997329\n",
            " 0.03089355 0.03180567 0.03268397 0.03352226 0.03432292 0.03509117\n",
            " 0.03583274 0.03655295 0.03725656 0.03794768]\n",
            "16 day output [[0.03862985]]\n",
            "17 day input [0.03810016 0.04284113 0.03870356 0.04284113 0.04318593 0.04637531\n",
            " 0.04353073 0.03335919 0.02775623 0.02034307 0.01491251 0.02103267\n",
            " 0.02560124 0.02103267 0.01905008 0.02430825 0.02801483 0.02792863\n",
            " 0.02896302 0.0318076  0.03594518 0.04085855 0.04094475 0.04387553\n",
            " 0.04318593 0.04456512 0.03646237 0.02939402 0.0318076  0.02948022\n",
            " 0.01887768 0.02379105 0.01801569 0.03706577 0.04706491 0.04508232\n",
            " 0.03853116 0.04568572 0.04973709 0.04930609 0.05499526 0.05447806\n",
            " 0.04525472 0.04180674 0.04663391 0.04042755 0.03387639 0.03361779\n",
            " 0.02861822 0.04335833 0.05292647 0.05887423 0.05482286 0.05396087\n",
            " 0.05111628 0.0482717  0.05275407 0.0490475  0.04499612 0.03835876\n",
            " 0.03456599 0.03568658 0.03654857 0.02948022 0.02551504 0.03430739\n",
            " 0.03508318 0.0320662  0.02723903 0.01396431 0.02137747 0.02896302\n",
            " 0.03111801 0.04077235 0.03732437 0.03577278 0.032411   0.03335919\n",
            " 0.02560124 0.02267046 0.02292906 0.01965348 0.01749849 0.02991368\n",
            " 0.02854352 0.02814018 0.02842639 0.02910858 0.02997329 0.03089355\n",
            " 0.03180567 0.03268397 0.03352226 0.03432292 0.03509117 0.03583274\n",
            " 0.03655295 0.03725656 0.03794768 0.03862985]\n",
            "17 day output [[0.03930602]]\n",
            "18 day input [0.04284113 0.03870356 0.04284113 0.04318593 0.04637531 0.04353073\n",
            " 0.03335919 0.02775623 0.02034307 0.01491251 0.02103267 0.02560124\n",
            " 0.02103267 0.01905008 0.02430825 0.02801483 0.02792863 0.02896302\n",
            " 0.0318076  0.03594518 0.04085855 0.04094475 0.04387553 0.04318593\n",
            " 0.04456512 0.03646237 0.02939402 0.0318076  0.02948022 0.01887768\n",
            " 0.02379105 0.01801569 0.03706577 0.04706491 0.04508232 0.03853116\n",
            " 0.04568572 0.04973709 0.04930609 0.05499526 0.05447806 0.04525472\n",
            " 0.04180674 0.04663391 0.04042755 0.03387639 0.03361779 0.02861822\n",
            " 0.04335833 0.05292647 0.05887423 0.05482286 0.05396087 0.05111628\n",
            " 0.0482717  0.05275407 0.0490475  0.04499612 0.03835876 0.03456599\n",
            " 0.03568658 0.03654857 0.02948022 0.02551504 0.03430739 0.03508318\n",
            " 0.0320662  0.02723903 0.01396431 0.02137747 0.02896302 0.03111801\n",
            " 0.04077235 0.03732437 0.03577278 0.032411   0.03335919 0.02560124\n",
            " 0.02267046 0.02292906 0.01965348 0.01749849 0.02991368 0.02854352\n",
            " 0.02814018 0.02842639 0.02910858 0.02997329 0.03089355 0.03180567\n",
            " 0.03268397 0.03352226 0.03432292 0.03509117 0.03583274 0.03655295\n",
            " 0.03725656 0.03794768 0.03862985 0.03930602]\n",
            "18 day output [[0.03997852]]\n",
            "19 day input [0.03870356 0.04284113 0.04318593 0.04637531 0.04353073 0.03335919\n",
            " 0.02775623 0.02034307 0.01491251 0.02103267 0.02560124 0.02103267\n",
            " 0.01905008 0.02430825 0.02801483 0.02792863 0.02896302 0.0318076\n",
            " 0.03594518 0.04085855 0.04094475 0.04387553 0.04318593 0.04456512\n",
            " 0.03646237 0.02939402 0.0318076  0.02948022 0.01887768 0.02379105\n",
            " 0.01801569 0.03706577 0.04706491 0.04508232 0.03853116 0.04568572\n",
            " 0.04973709 0.04930609 0.05499526 0.05447806 0.04525472 0.04180674\n",
            " 0.04663391 0.04042755 0.03387639 0.03361779 0.02861822 0.04335833\n",
            " 0.05292647 0.05887423 0.05482286 0.05396087 0.05111628 0.0482717\n",
            " 0.05275407 0.0490475  0.04499612 0.03835876 0.03456599 0.03568658\n",
            " 0.03654857 0.02948022 0.02551504 0.03430739 0.03508318 0.0320662\n",
            " 0.02723903 0.01396431 0.02137747 0.02896302 0.03111801 0.04077235\n",
            " 0.03732437 0.03577278 0.032411   0.03335919 0.02560124 0.02267046\n",
            " 0.02292906 0.01965348 0.01749849 0.02991368 0.02854352 0.02814018\n",
            " 0.02842639 0.02910858 0.02997329 0.03089355 0.03180567 0.03268397\n",
            " 0.03352226 0.03432292 0.03509117 0.03583274 0.03655295 0.03725656\n",
            " 0.03794768 0.03862985 0.03930602 0.03997852]\n",
            "19 day output [[0.04064915]]\n",
            "20 day input [0.04284113 0.04318593 0.04637531 0.04353073 0.03335919 0.02775623\n",
            " 0.02034307 0.01491251 0.02103267 0.02560124 0.02103267 0.01905008\n",
            " 0.02430825 0.02801483 0.02792863 0.02896302 0.0318076  0.03594518\n",
            " 0.04085855 0.04094475 0.04387553 0.04318593 0.04456512 0.03646237\n",
            " 0.02939402 0.0318076  0.02948022 0.01887768 0.02379105 0.01801569\n",
            " 0.03706577 0.04706491 0.04508232 0.03853116 0.04568572 0.04973709\n",
            " 0.04930609 0.05499526 0.05447806 0.04525472 0.04180674 0.04663391\n",
            " 0.04042755 0.03387639 0.03361779 0.02861822 0.04335833 0.05292647\n",
            " 0.05887423 0.05482286 0.05396087 0.05111628 0.0482717  0.05275407\n",
            " 0.0490475  0.04499612 0.03835876 0.03456599 0.03568658 0.03654857\n",
            " 0.02948022 0.02551504 0.03430739 0.03508318 0.0320662  0.02723903\n",
            " 0.01396431 0.02137747 0.02896302 0.03111801 0.04077235 0.03732437\n",
            " 0.03577278 0.032411   0.03335919 0.02560124 0.02267046 0.02292906\n",
            " 0.01965348 0.01749849 0.02991368 0.02854352 0.02814018 0.02842639\n",
            " 0.02910858 0.02997329 0.03089355 0.03180567 0.03268397 0.03352226\n",
            " 0.03432292 0.03509117 0.03583274 0.03655295 0.03725656 0.03794768\n",
            " 0.03862985 0.03930602 0.03997852 0.04064915]\n",
            "20 day output [[0.04131915]]\n",
            "21 day input [0.04318593 0.04637531 0.04353073 0.03335919 0.02775623 0.02034307\n",
            " 0.01491251 0.02103267 0.02560124 0.02103267 0.01905008 0.02430825\n",
            " 0.02801483 0.02792863 0.02896302 0.0318076  0.03594518 0.04085855\n",
            " 0.04094475 0.04387553 0.04318593 0.04456512 0.03646237 0.02939402\n",
            " 0.0318076  0.02948022 0.01887768 0.02379105 0.01801569 0.03706577\n",
            " 0.04706491 0.04508232 0.03853116 0.04568572 0.04973709 0.04930609\n",
            " 0.05499526 0.05447806 0.04525472 0.04180674 0.04663391 0.04042755\n",
            " 0.03387639 0.03361779 0.02861822 0.04335833 0.05292647 0.05887423\n",
            " 0.05482286 0.05396087 0.05111628 0.0482717  0.05275407 0.0490475\n",
            " 0.04499612 0.03835876 0.03456599 0.03568658 0.03654857 0.02948022\n",
            " 0.02551504 0.03430739 0.03508318 0.0320662  0.02723903 0.01396431\n",
            " 0.02137747 0.02896302 0.03111801 0.04077235 0.03732437 0.03577278\n",
            " 0.032411   0.03335919 0.02560124 0.02267046 0.02292906 0.01965348\n",
            " 0.01749849 0.02991368 0.02854352 0.02814018 0.02842639 0.02910858\n",
            " 0.02997329 0.03089355 0.03180567 0.03268397 0.03352226 0.03432292\n",
            " 0.03509117 0.03583274 0.03655295 0.03725656 0.03794768 0.03862985\n",
            " 0.03930602 0.03997852 0.04064915 0.04131915]\n",
            "21 day output [[0.04198934]]\n",
            "22 day input [0.04637531 0.04353073 0.03335919 0.02775623 0.02034307 0.01491251\n",
            " 0.02103267 0.02560124 0.02103267 0.01905008 0.02430825 0.02801483\n",
            " 0.02792863 0.02896302 0.0318076  0.03594518 0.04085855 0.04094475\n",
            " 0.04387553 0.04318593 0.04456512 0.03646237 0.02939402 0.0318076\n",
            " 0.02948022 0.01887768 0.02379105 0.01801569 0.03706577 0.04706491\n",
            " 0.04508232 0.03853116 0.04568572 0.04973709 0.04930609 0.05499526\n",
            " 0.05447806 0.04525472 0.04180674 0.04663391 0.04042755 0.03387639\n",
            " 0.03361779 0.02861822 0.04335833 0.05292647 0.05887423 0.05482286\n",
            " 0.05396087 0.05111628 0.0482717  0.05275407 0.0490475  0.04499612\n",
            " 0.03835876 0.03456599 0.03568658 0.03654857 0.02948022 0.02551504\n",
            " 0.03430739 0.03508318 0.0320662  0.02723903 0.01396431 0.02137747\n",
            " 0.02896302 0.03111801 0.04077235 0.03732437 0.03577278 0.032411\n",
            " 0.03335919 0.02560124 0.02267046 0.02292906 0.01965348 0.01749849\n",
            " 0.02991368 0.02854352 0.02814018 0.02842639 0.02910858 0.02997329\n",
            " 0.03089355 0.03180567 0.03268397 0.03352226 0.03432292 0.03509117\n",
            " 0.03583274 0.03655295 0.03725656 0.03794768 0.03862985 0.03930602\n",
            " 0.03997852 0.04064915 0.04131915 0.04198934]\n",
            "22 day output [[0.04266011]]\n",
            "23 day input [0.04353073 0.03335919 0.02775623 0.02034307 0.01491251 0.02103267\n",
            " 0.02560124 0.02103267 0.01905008 0.02430825 0.02801483 0.02792863\n",
            " 0.02896302 0.0318076  0.03594518 0.04085855 0.04094475 0.04387553\n",
            " 0.04318593 0.04456512 0.03646237 0.02939402 0.0318076  0.02948022\n",
            " 0.01887768 0.02379105 0.01801569 0.03706577 0.04706491 0.04508232\n",
            " 0.03853116 0.04568572 0.04973709 0.04930609 0.05499526 0.05447806\n",
            " 0.04525472 0.04180674 0.04663391 0.04042755 0.03387639 0.03361779\n",
            " 0.02861822 0.04335833 0.05292647 0.05887423 0.05482286 0.05396087\n",
            " 0.05111628 0.0482717  0.05275407 0.0490475  0.04499612 0.03835876\n",
            " 0.03456599 0.03568658 0.03654857 0.02948022 0.02551504 0.03430739\n",
            " 0.03508318 0.0320662  0.02723903 0.01396431 0.02137747 0.02896302\n",
            " 0.03111801 0.04077235 0.03732437 0.03577278 0.032411   0.03335919\n",
            " 0.02560124 0.02267046 0.02292906 0.01965348 0.01749849 0.02991368\n",
            " 0.02854352 0.02814018 0.02842639 0.02910858 0.02997329 0.03089355\n",
            " 0.03180567 0.03268397 0.03352226 0.03432292 0.03509117 0.03583274\n",
            " 0.03655295 0.03725656 0.03794768 0.03862985 0.03930602 0.03997852\n",
            " 0.04064915 0.04131915 0.04198934 0.04266011]\n",
            "23 day output [[0.04333159]]\n",
            "24 day input [0.03335919 0.02775623 0.02034307 0.01491251 0.02103267 0.02560124\n",
            " 0.02103267 0.01905008 0.02430825 0.02801483 0.02792863 0.02896302\n",
            " 0.0318076  0.03594518 0.04085855 0.04094475 0.04387553 0.04318593\n",
            " 0.04456512 0.03646237 0.02939402 0.0318076  0.02948022 0.01887768\n",
            " 0.02379105 0.01801569 0.03706577 0.04706491 0.04508232 0.03853116\n",
            " 0.04568572 0.04973709 0.04930609 0.05499526 0.05447806 0.04525472\n",
            " 0.04180674 0.04663391 0.04042755 0.03387639 0.03361779 0.02861822\n",
            " 0.04335833 0.05292647 0.05887423 0.05482286 0.05396087 0.05111628\n",
            " 0.0482717  0.05275407 0.0490475  0.04499612 0.03835876 0.03456599\n",
            " 0.03568658 0.03654857 0.02948022 0.02551504 0.03430739 0.03508318\n",
            " 0.0320662  0.02723903 0.01396431 0.02137747 0.02896302 0.03111801\n",
            " 0.04077235 0.03732437 0.03577278 0.032411   0.03335919 0.02560124\n",
            " 0.02267046 0.02292906 0.01965348 0.01749849 0.02991368 0.02854352\n",
            " 0.02814018 0.02842639 0.02910858 0.02997329 0.03089355 0.03180567\n",
            " 0.03268397 0.03352226 0.03432292 0.03509117 0.03583274 0.03655295\n",
            " 0.03725656 0.03794768 0.03862985 0.03930602 0.03997852 0.04064915\n",
            " 0.04131915 0.04198934 0.04266011 0.04333159]\n",
            "24 day output [[0.04400364]]\n",
            "25 day input [0.02775623 0.02034307 0.01491251 0.02103267 0.02560124 0.02103267\n",
            " 0.01905008 0.02430825 0.02801483 0.02792863 0.02896302 0.0318076\n",
            " 0.03594518 0.04085855 0.04094475 0.04387553 0.04318593 0.04456512\n",
            " 0.03646237 0.02939402 0.0318076  0.02948022 0.01887768 0.02379105\n",
            " 0.01801569 0.03706577 0.04706491 0.04508232 0.03853116 0.04568572\n",
            " 0.04973709 0.04930609 0.05499526 0.05447806 0.04525472 0.04180674\n",
            " 0.04663391 0.04042755 0.03387639 0.03361779 0.02861822 0.04335833\n",
            " 0.05292647 0.05887423 0.05482286 0.05396087 0.05111628 0.0482717\n",
            " 0.05275407 0.0490475  0.04499612 0.03835876 0.03456599 0.03568658\n",
            " 0.03654857 0.02948022 0.02551504 0.03430739 0.03508318 0.0320662\n",
            " 0.02723903 0.01396431 0.02137747 0.02896302 0.03111801 0.04077235\n",
            " 0.03732437 0.03577278 0.032411   0.03335919 0.02560124 0.02267046\n",
            " 0.02292906 0.01965348 0.01749849 0.02991368 0.02854352 0.02814018\n",
            " 0.02842639 0.02910858 0.02997329 0.03089355 0.03180567 0.03268397\n",
            " 0.03352226 0.03432292 0.03509117 0.03583274 0.03655295 0.03725656\n",
            " 0.03794768 0.03862985 0.03930602 0.03997852 0.04064915 0.04131915\n",
            " 0.04198934 0.04266011 0.04333159 0.04400364]\n",
            "25 day output [[0.04467601]]\n",
            "26 day input [0.02034307 0.01491251 0.02103267 0.02560124 0.02103267 0.01905008\n",
            " 0.02430825 0.02801483 0.02792863 0.02896302 0.0318076  0.03594518\n",
            " 0.04085855 0.04094475 0.04387553 0.04318593 0.04456512 0.03646237\n",
            " 0.02939402 0.0318076  0.02948022 0.01887768 0.02379105 0.01801569\n",
            " 0.03706577 0.04706491 0.04508232 0.03853116 0.04568572 0.04973709\n",
            " 0.04930609 0.05499526 0.05447806 0.04525472 0.04180674 0.04663391\n",
            " 0.04042755 0.03387639 0.03361779 0.02861822 0.04335833 0.05292647\n",
            " 0.05887423 0.05482286 0.05396087 0.05111628 0.0482717  0.05275407\n",
            " 0.0490475  0.04499612 0.03835876 0.03456599 0.03568658 0.03654857\n",
            " 0.02948022 0.02551504 0.03430739 0.03508318 0.0320662  0.02723903\n",
            " 0.01396431 0.02137747 0.02896302 0.03111801 0.04077235 0.03732437\n",
            " 0.03577278 0.032411   0.03335919 0.02560124 0.02267046 0.02292906\n",
            " 0.01965348 0.01749849 0.02991368 0.02854352 0.02814018 0.02842639\n",
            " 0.02910858 0.02997329 0.03089355 0.03180567 0.03268397 0.03352226\n",
            " 0.03432292 0.03509117 0.03583274 0.03655295 0.03725656 0.03794768\n",
            " 0.03862985 0.03930602 0.03997852 0.04064915 0.04131915 0.04198934\n",
            " 0.04266011 0.04333159 0.04400364 0.04467601]\n",
            "26 day output [[0.04534834]]\n",
            "27 day input [0.01491251 0.02103267 0.02560124 0.02103267 0.01905008 0.02430825\n",
            " 0.02801483 0.02792863 0.02896302 0.0318076  0.03594518 0.04085855\n",
            " 0.04094475 0.04387553 0.04318593 0.04456512 0.03646237 0.02939402\n",
            " 0.0318076  0.02948022 0.01887768 0.02379105 0.01801569 0.03706577\n",
            " 0.04706491 0.04508232 0.03853116 0.04568572 0.04973709 0.04930609\n",
            " 0.05499526 0.05447806 0.04525472 0.04180674 0.04663391 0.04042755\n",
            " 0.03387639 0.03361779 0.02861822 0.04335833 0.05292647 0.05887423\n",
            " 0.05482286 0.05396087 0.05111628 0.0482717  0.05275407 0.0490475\n",
            " 0.04499612 0.03835876 0.03456599 0.03568658 0.03654857 0.02948022\n",
            " 0.02551504 0.03430739 0.03508318 0.0320662  0.02723903 0.01396431\n",
            " 0.02137747 0.02896302 0.03111801 0.04077235 0.03732437 0.03577278\n",
            " 0.032411   0.03335919 0.02560124 0.02267046 0.02292906 0.01965348\n",
            " 0.01749849 0.02991368 0.02854352 0.02814018 0.02842639 0.02910858\n",
            " 0.02997329 0.03089355 0.03180567 0.03268397 0.03352226 0.03432292\n",
            " 0.03509117 0.03583274 0.03655295 0.03725656 0.03794768 0.03862985\n",
            " 0.03930602 0.03997852 0.04064915 0.04131915 0.04198934 0.04266011\n",
            " 0.04333159 0.04400364 0.04467601 0.04534834]\n",
            "27 day output [[0.04602027]]\n",
            "28 day input [0.02103267 0.02560124 0.02103267 0.01905008 0.02430825 0.02801483\n",
            " 0.02792863 0.02896302 0.0318076  0.03594518 0.04085855 0.04094475\n",
            " 0.04387553 0.04318593 0.04456512 0.03646237 0.02939402 0.0318076\n",
            " 0.02948022 0.01887768 0.02379105 0.01801569 0.03706577 0.04706491\n",
            " 0.04508232 0.03853116 0.04568572 0.04973709 0.04930609 0.05499526\n",
            " 0.05447806 0.04525472 0.04180674 0.04663391 0.04042755 0.03387639\n",
            " 0.03361779 0.02861822 0.04335833 0.05292647 0.05887423 0.05482286\n",
            " 0.05396087 0.05111628 0.0482717  0.05275407 0.0490475  0.04499612\n",
            " 0.03835876 0.03456599 0.03568658 0.03654857 0.02948022 0.02551504\n",
            " 0.03430739 0.03508318 0.0320662  0.02723903 0.01396431 0.02137747\n",
            " 0.02896302 0.03111801 0.04077235 0.03732437 0.03577278 0.032411\n",
            " 0.03335919 0.02560124 0.02267046 0.02292906 0.01965348 0.01749849\n",
            " 0.02991368 0.02854352 0.02814018 0.02842639 0.02910858 0.02997329\n",
            " 0.03089355 0.03180567 0.03268397 0.03352226 0.03432292 0.03509117\n",
            " 0.03583274 0.03655295 0.03725656 0.03794768 0.03862985 0.03930602\n",
            " 0.03997852 0.04064915 0.04131915 0.04198934 0.04266011 0.04333159\n",
            " 0.04400364 0.04467601 0.04534834 0.04602027]\n",
            "28 day output [[0.04669142]]\n",
            "29 day input [0.02560124 0.02103267 0.01905008 0.02430825 0.02801483 0.02792863\n",
            " 0.02896302 0.0318076  0.03594518 0.04085855 0.04094475 0.04387553\n",
            " 0.04318593 0.04456512 0.03646237 0.02939402 0.0318076  0.02948022\n",
            " 0.01887768 0.02379105 0.01801569 0.03706577 0.04706491 0.04508232\n",
            " 0.03853116 0.04568572 0.04973709 0.04930609 0.05499526 0.05447806\n",
            " 0.04525472 0.04180674 0.04663391 0.04042755 0.03387639 0.03361779\n",
            " 0.02861822 0.04335833 0.05292647 0.05887423 0.05482286 0.05396087\n",
            " 0.05111628 0.0482717  0.05275407 0.0490475  0.04499612 0.03835876\n",
            " 0.03456599 0.03568658 0.03654857 0.02948022 0.02551504 0.03430739\n",
            " 0.03508318 0.0320662  0.02723903 0.01396431 0.02137747 0.02896302\n",
            " 0.03111801 0.04077235 0.03732437 0.03577278 0.032411   0.03335919\n",
            " 0.02560124 0.02267046 0.02292906 0.01965348 0.01749849 0.02991368\n",
            " 0.02854352 0.02814018 0.02842639 0.02910858 0.02997329 0.03089355\n",
            " 0.03180567 0.03268397 0.03352226 0.03432292 0.03509117 0.03583274\n",
            " 0.03655295 0.03725656 0.03794768 0.03862985 0.03930602 0.03997852\n",
            " 0.04064915 0.04131915 0.04198934 0.04266011 0.04333159 0.04400364\n",
            " 0.04467601 0.04534834 0.04602027 0.04669142]\n",
            "29 day output [[0.04736146]]\n",
            "[[0.029913682490587234], [0.028543520718812943], [0.028140177950263023], [0.028426393866539], [0.029108578339219093], [0.029973290860652924], [0.03089355304837227], [0.031805671751499176], [0.03268396854400635], [0.033522263169288635], [0.03432292118668556], [0.03509116917848587], [0.035832736641168594], [0.036552950739860535], [0.03725655749440193], [0.037947677075862885], [0.03862985223531723], [0.03930601850152016], [0.0399785190820694], [0.04064914584159851], [0.04131915420293808], [0.04198933765292168], [0.04266010969877243], [0.04333159327507019], [0.04400364309549332], [0.044676005840301514], [0.045348335057497025], [0.0460202693939209], [0.0466914176940918], [0.04736146330833435]]\n"
          ]
        }
      ]
    },
    {
      "cell_type": "code",
      "source": [
        "day_new=np.arange(1,101)\n",
        "day_pred=np.arange(101,131)"
      ],
      "metadata": {
        "id": "8uaQOiOPn6jd"
      },
      "execution_count": null,
      "outputs": []
    },
    {
      "cell_type": "code",
      "source": [
        "plt.plot(day_new,scaler.inverse_transform(df1[1564:])) #len(df1)\n",
        "plt.plot(day_pred,scaler.inverse_transform(lst_output))"
      ],
      "metadata": {
        "colab": {
          "base_uri": "https://localhost:8080/",
          "height": 447
        },
        "id": "4PpqmX3FoFxz",
        "outputId": "d6685ff6-2a6d-432f-f425-bc18ca273614"
      },
      "execution_count": null,
      "outputs": [
        {
          "output_type": "execute_result",
          "data": {
            "text/plain": [
              "[<matplotlib.lines.Line2D at 0x7c2d4941ff70>]"
            ]
          },
          "metadata": {},
          "execution_count": 90
        },
        {
          "output_type": "display_data",
          "data": {
            "text/plain": [
              "<Figure size 640x480 with 1 Axes>"
            ],
            "image/png": "[encoded data removed]"
          },
          "metadata": {}
        }
      ]
    },
    {
      "cell_type": "code",
      "source": [
        "df3=df1.tolist()\n",
        "df3.extend(lst_output)\n",
        "df3=scaler.inverse_transform(df3).tolist()\n",
        "plt.plot(df3[1600:])"
      ],
      "metadata": {
        "colab": {
          "base_uri": "https://localhost:8080/",
          "height": 447
        },
        "id": "MIO1pzxB0aaB",
        "outputId": "6fcb20fd-d611-4ddf-8550-ce29f8b223a3"
      },
      "execution_count": null,
      "outputs": [
        {
          "output_type": "execute_result",
          "data": {
            "text/plain": [
              "[<matplotlib.lines.Line2D at 0x7c2d47f824d0>]"
            ]
          },
          "metadata": {},
          "execution_count": 91
        },
        {
          "output_type": "display_data",
          "data": {
            "text/plain": [
              "<Figure size 640x480 with 1 Axes>"
            ],
            "image/png": "[encoded data removed]"
          },
          "metadata": {}
        }
      ]
    },
    {
      "cell_type": "code",
      "source": [
        "plt.plot(df3)"
      ],
      "metadata": {
        "id": "4UsjikgQ0cO2",
        "colab": {
          "base_uri": "https://localhost:8080/",
          "height": 447
        },
        "outputId": "0db0b21a-3521-4091-b121-42500d24e705"
      },
      "execution_count": null,
      "outputs": [
        {
          "output_type": "execute_result",
          "data": {
            "text/plain": [
              "[<matplotlib.lines.Line2D at 0x7c2d49496b60>]"
            ]
          },
          "metadata": {},
          "execution_count": 93
        },
        {
          "output_type": "display_data",
          "data": {
            "text/plain": [
              "<Figure size 640x480 with 1 Axes>"
            ],
            "image/png": "[encoded data removed]"
          },
          "metadata": {}
        }
      ]
    },
    {
      "cell_type": "code",
      "source": [
        "### Calculate RMSE performance metrics\n",
        "import math\n",
        "from sklearn.metrics import mean_squared_error\n",
        "math.sqrt(mean_squared_error(y_train,train_predict))"
      ],
      "metadata": {
        "colab": {
          "base_uri": "https://localhost:8080/"
        },
        "id": "4lIHGc5_0kFw",
        "outputId": "a016e40b-4234-4a2e-ef4a-6d98e5f2b0c9"
      },
      "execution_count": null,
      "outputs": [
        {
          "output_type": "execute_result",
          "data": {
            "text/plain": [
              "103.86650671657279"
            ]
          },
          "metadata": {},
          "execution_count": 94
        }
      ]
    },
    {
      "cell_type": "code",
      "source": [
        "### Test Data RMSE\n",
        "math.sqrt(mean_squared_error(ytest,test_predict))"
      ],
      "metadata": {
        "colab": {
          "base_uri": "https://localhost:8080/"
        },
        "id": "Sf1vQy7A0my9",
        "outputId": "fd32ac0a-a352-4aff-b08d-0a9222637a3b"
      },
      "execution_count": null,
      "outputs": [
        {
          "output_type": "execute_result",
          "data": {
            "text/plain": [
              "69.6742627058206"
            ]
          },
          "metadata": {},
          "execution_count": 95
        }
      ]
    },
    {
      "cell_type": "code",
      "source": [
        "### Plotting\n",
        "# shift train predictions for plotting\n",
        "look_back=100\n",
        "trainPredictPlot = numpy.empty_like(df1)\n",
        "trainPredictPlot[:, :] = np.nan\n",
        "trainPredictPlot[look_back:len(train_predict)+look_back, :] = train_predict\n",
        "# shift test predictions for plotting\n",
        "testPredictPlot = numpy.empty_like(df1)\n",
        "testPredictPlot[:, :] = numpy.nan\n",
        "testPredictPlot[len(train_predict)+(look_back*2)+1:len(df1)-1, :] = test_predict\n",
        "# plot baseline and predictions\n",
        "plt.plot(scaler.inverse_transform(df1))\n",
        "plt.plot(trainPredictPlot)\n",
        "plt.plot(testPredictPlot)\n",
        "plt.show()\n"
      ],
      "metadata": {
        "colab": {
          "base_uri": "https://localhost:8080/",
          "height": 430
        },
        "id": "uezNcFWP0o2Q",
        "outputId": "f8c44170-b1a8-4718-837c-2ebee7c9e3a6"
      },
      "execution_count": null,
      "outputs": [
        {
          "output_type": "display_data",
          "data": {
            "text/plain": [
              "<Figure size 640x480 with 1 Axes>"
            ],
            "image/png": "[encoded data removed]"
          },
          "metadata": {}
        }
      ]
    },
    {
      "cell_type": "code",
      "source": [
        "len(test_data)"
      ],
      "metadata": {
        "colab": {
          "base_uri": "https://localhost:8080/"
        },
        "id": "YZTkhjVf0q41",
        "outputId": "baa76fbf-8506-4851-d9b7-96b27b8d46c6"
      },
      "execution_count": null,
      "outputs": [
        {
          "output_type": "execute_result",
          "data": {
            "text/plain": [
              "583"
            ]
          },
          "metadata": {},
          "execution_count": 97
        }
      ]
    },
    {
      "cell_type": "code",
      "source": [
        "x_input=test_data[341:].reshape(1,-1)\n",
        "x_input.shape"
      ],
      "metadata": {
        "colab": {
          "base_uri": "https://localhost:8080/"
        },
        "id": "DejHDcEl0tbe",
        "outputId": "ee2fd470-e844-4e7b-a712-6e84f28c19e3"
      },
      "execution_count": null,
      "outputs": [
        {
          "output_type": "execute_result",
          "data": {
            "text/plain": [
              "(1, 242)"
            ]
          },
          "metadata": {},
          "execution_count": 98
        }
      ]
    },
    {
      "cell_type": "code",
      "source": [
        "\n",
        "temp_input=list(x_input)\n",
        "temp_input=temp_input[0].tolist()"
      ],
      "metadata": {
        "id": "zKSh32fp0xcY"
      },
      "execution_count": null,
      "outputs": []
    },
    {
      "cell_type": "code",
      "source": [
        "temp_input"
      ],
      "metadata": {
        "colab": {
          "base_uri": "https://localhost:8080/"
        },
        "id": "ZcHAKFMe0y7F",
        "outputId": "90a8a4b2-670e-4cd5-ff7e-2d2a36c3d89a"
      },
      "execution_count": null,
      "outputs": [
        {
          "output_type": "execute_result",
          "data": {
            "text/plain": [
              "[0.07826911473148873,\n",
              " 0.07982070511162837,\n",
              " 0.0904232393759159,\n",
              " 0.09421601586070166,\n",
              " 0.09637100249978447,\n",
              " 0.0927506249461254,\n",
              " 0.09076803723816912,\n",
              " 0.09309542280837863,\n",
              " 0.09559520730971471,\n",
              " 0.09154383242823899,\n",
              " 0.08938884578915612,\n",
              " 0.08232048961296445,\n",
              " 0.071200758555297,\n",
              " 0.07482113610895613,\n",
              " 0.059391431773123005,\n",
              " 0.06361520558572537,\n",
              " 0.07533833290233605,\n",
              " 0.06611499008706145,\n",
              " 0.07335574519437982,\n",
              " 0.07645892595465914,\n",
              " 0.08550986983880704,\n",
              " 0.09050943884147916,\n",
              " 0.07870011205930527,\n",
              " 0.0853374709076804,\n",
              " 0.0860270666321869,\n",
              " 0.09843978967330402,\n",
              " 0.11188690630118092,\n",
              " 0.1038703560037928,\n",
              " 0.1045599517282993,\n",
              " 0.10800793035083184,\n",
              " 0.10102577364020349,\n",
              " 0.0999051805878804,\n",
              " 0.11016291698991465,\n",
              " 0.11033531592104134,\n",
              " 0.10999051805878807,\n",
              " 0.10499094905611583,\n",
              " 0.10145677096802003,\n",
              " 0.11136970950780106,\n",
              " 0.09542280837858808,\n",
              " 0.09843978967330402,\n",
              " 0.10257736402034312,\n",
              " 0.13162658391517978,\n",
              " 0.12886820101715368,\n",
              " 0.13136798551848983,\n",
              " 0.11464528919920702,\n",
              " 0.10697353676407212,\n",
              " 0.1045599517282993,\n",
              " 0.0904232393759159,\n",
              " 0.06706318420825791,\n",
              " 0.07637272648909577,\n",
              " 0.07749331954141886,\n",
              " 0.07033876389966387,\n",
              " 0.07292474786656322,\n",
              " 0.08119989656064136,\n",
              " 0.09266442548056203,\n",
              " 0.10059477631238689,\n",
              " 0.10335315921041294,\n",
              " 0.10818032928195848,\n",
              " 0.10955952073097147,\n",
              " 0.1064563399706922,\n",
              " 0.1192138608740626,\n",
              " 0.12076545125420224,\n",
              " 0.11852426514955605,\n",
              " 0.10481855012498925,\n",
              " 0.09559520730971471,\n",
              " 0.09102663563485908,\n",
              " 0.0853374709076804,\n",
              " 0.07956210671493841,\n",
              " 0.0765451254202224,\n",
              " 0.08473407464873722,\n",
              " 0.08447547625204727,\n",
              " 0.07930350831824845,\n",
              " 0.07232135160762004,\n",
              " 0.08085509869838808,\n",
              " 0.0855960693043703,\n",
              " 0.09188863029049221,\n",
              " 0.09188863029049221,\n",
              " 0.08404447892423067,\n",
              " 0.0718903542798035,\n",
              " 0.0749073355745195,\n",
              " 0.07171795534867687,\n",
              " 0.05059908628566506,\n",
              " 0.05008188949228515,\n",
              " 0.06240841306783901,\n",
              " 0.08016550297388159,\n",
              " 0.08016550297388159,\n",
              " 0.08378588052754077,\n",
              " 0.07594172916127923,\n",
              " 0.0718903542798035,\n",
              " 0.05956383070424964,\n",
              " 0.07223515214205672,\n",
              " 0.04663391086975266,\n",
              " 0.07171795534867687,\n",
              " 0.07637272648909577,\n",
              " 0.0950780105163348,\n",
              " 0.0897336436514094,\n",
              " 0.10024997845013361,\n",
              " 0.09249202654943545,\n",
              " 0.09412981639513834,\n",
              " 0.0950780105163348,\n",
              " 0.10843892767864843,\n",
              " 0.10240496508921648,\n",
              " 0.09602620463753125,\n",
              " 0.08861305059908631,\n",
              " 0.08809585380570645,\n",
              " 0.07576933023015264,\n",
              " 0.07197655374536677,\n",
              " 0.06102922161882601,\n",
              " 0.052236876131368015,\n",
              " 0.052581673993621236,\n",
              " 0.04732350659425916,\n",
              " 0.04758210499094906,\n",
              " 0.054650461167140785,\n",
              " 0.05154728040686152,\n",
              " 0.04482372209292307,\n",
              " 0.0419791397293337,\n",
              " 0.03439358675976212,\n",
              " 0.024997845013360942,\n",
              " 0.023015257305404713,\n",
              " 0.024480648219981083,\n",
              " 0.020515472804068624,\n",
              " 0.013533316093440217,\n",
              " 0.01956727868287217,\n",
              " 0.008964744418584636,\n",
              " 0.012240324109990541,\n",
              " 0.0,\n",
              " 0.0060339625894319515,\n",
              " 0.012067925178863959,\n",
              " 0.014050512886820132,\n",
              " 0.02103266959744854,\n",
              " 0.013878113955693494,\n",
              " 0.013016119300060358,\n",
              " 0.019912076545125446,\n",
              " 0.02077407120075858,\n",
              " 0.020515472804068624,\n",
              " 0.02792862684251357,\n",
              " 0.034565985690888756,\n",
              " 0.03784156538229466,\n",
              " 0.037151969657788164,\n",
              " 0.039996552021377474,\n",
              " 0.02715283165244381,\n",
              " 0.024222049823291125,\n",
              " 0.026377036462373937,\n",
              " 0.02077407120075858,\n",
              " 0.02344625463322131,\n",
              " 0.024480648219981083,\n",
              " 0.031031807602792894,\n",
              " 0.030169812947159702,\n",
              " 0.025601241272304176,\n",
              " 0.022067063184208258,\n",
              " 0.030945608137229574,\n",
              " 0.03844496164123784,\n",
              " 0.03922075683130766,\n",
              " 0.0419791397293337,\n",
              " 0.039737953624687516,\n",
              " 0.038531161106801215,\n",
              " 0.0387035600379278,\n",
              " 0.042151538660460286,\n",
              " 0.04042754934919407,\n",
              " 0.038100163778984564,\n",
              " 0.04284113438496684,\n",
              " 0.0387035600379278,\n",
              " 0.04284113438496684,\n",
              " 0.043185932247220116,\n",
              " 0.0463753124730627,\n",
              " 0.04353073010947334,\n",
              " 0.033359193173002344,\n",
              " 0.027756227911386988,\n",
              " 0.020343073872941986,\n",
              " 0.014912507542453268,\n",
              " 0.02103266959744854,\n",
              " 0.025601241272304176,\n",
              " 0.02103266959744854,\n",
              " 0.01905008188949231,\n",
              " 0.02430824928885439,\n",
              " 0.02801482630807689,\n",
              " 0.02792862684251357,\n",
              " 0.028963020429273345,\n",
              " 0.03180760279286271,\n",
              " 0.03594517713990175,\n",
              " 0.04085854667701061,\n",
              " 0.04094474614257393,\n",
              " 0.04387552797172661,\n",
              " 0.043185932247220116,\n",
              " 0.04456512369623311,\n",
              " 0.03646237393328167,\n",
              " 0.02939401775708994,\n",
              " 0.03180760279286271,\n",
              " 0.02948021722265326,\n",
              " 0.018877682958365727,\n",
              " 0.023791052495474585,\n",
              " 0.018015688302732535,\n",
              " 0.037065770192224845,\n",
              " 0.0470649081975692,\n",
              " 0.045082320489613026,\n",
              " 0.038531161106801215,\n",
              " 0.045685716748556204,\n",
              " 0.04973709163003193,\n",
              " 0.049306094302215386,\n",
              " 0.05499525902939406,\n",
              " 0.054478062236014146,\n",
              " 0.04525471942073961,\n",
              " 0.041806740798207065,\n",
              " 0.04663391086975266,\n",
              " 0.04042754934919407,\n",
              " 0.0338763899663822,\n",
              " 0.0336177915696923,\n",
              " 0.02861822256702007,\n",
              " 0.0433583311783467,\n",
              " 0.05292647185587451,\n",
              " 0.058874234979743145,\n",
              " 0.05482286009826737,\n",
              " 0.05396086544263429,\n",
              " 0.05111628307904492,\n",
              " 0.04827170071545556,\n",
              " 0.05275407292474793,\n",
              " 0.04904749590552543,\n",
              " 0.04499612102404971,\n",
              " 0.03835876217567452,\n",
              " 0.034565985690888756,\n",
              " 0.035686578743211794,\n",
              " 0.03654857339884493,\n",
              " 0.02948021722265326,\n",
              " 0.0255150418067408,\n",
              " 0.0343073872941988,\n",
              " 0.035083182484268616,\n",
              " 0.03206620118955267,\n",
              " 0.027239031118007073,\n",
              " 0.013964313421256813,\n",
              " 0.02137746745970176,\n",
              " 0.028963020429273345,\n",
              " 0.031118007068356157,\n",
              " 0.040772347211447346,\n",
              " 0.0373243685889148,\n",
              " 0.03577277820877517,\n",
              " 0.032410999051805944,\n",
              " 0.033359193173002344,\n",
              " 0.025601241272304176,\n",
              " 0.02267045944315149,\n",
              " 0.02292905783984145,\n",
              " 0.019653478148435488,\n",
              " 0.017498491509352676]"
            ]
          },
          "metadata": {},
          "execution_count": 100
        }
      ]
    },
    {
      "cell_type": "code",
      "source": [],
      "metadata": {
        "id": "z2p3kONG125b"
      },
      "execution_count": null,
      "outputs": []
    }
  ]
}